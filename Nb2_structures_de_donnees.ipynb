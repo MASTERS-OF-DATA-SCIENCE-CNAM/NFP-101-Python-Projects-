{
 "cells": [
  {
   "cell_type": "markdown",
   "metadata": {},
   "source": [
    "# Listes et tableaux\n",
    "\n",
    "En Python, les notions de liste et de tableau sont confondues. La même structure de données, peut être considérée comme un tableau - suite d'un nombre fixé d'éléments accessibles par leur indice - ou comme une liste - structure dynamique dont le nombre d'éléments peut varier au cours de l'exécution."
   ]
  },
  {
   "cell_type": "markdown",
   "metadata": {},
   "source": [
    "Le type **liste** en Python est très riche par le nombre de fonctions disponibles et par sa capacité à gérer simultanément des listes en tant que suites ordonnées d'éléments et en tant que *vecteurs* dont chaque élément est accessible par son indice.\n"
   ]
  },
  {
   "cell_type": "markdown",
   "metadata": {},
   "source": [
    "## Les listes Python vues comme des tableaux\n",
    "\n",
    "La manière la plus élémentaire de construire une liste (tableau) est d'énumérer ses éléments, c'est la **construction par énumération**. Les listes sont notées par des ``[]`` avec le séparateur ``,``. On peut accéder à chaque élément par son indice avec la notation ``vecteur[indice]``. \n",
    "\n",
    "Par convention, le 1er élément d'une liste a l'indice ``0``. L'indice du dernier élément d'une liste de longueur ``n`` est : ``n - 1``."
   ]
  },
  {
   "cell_type": "code",
   "execution_count": 5,
   "metadata": {},
   "outputs": [],
   "source": [
    "jours = [\"Lundi\", \"Mardi\", \"Mercredi\", \"Jeudi\", \"Vendredi\", \"Samedi\", \"Dimanche\"]"
   ]
  },
  {
   "cell_type": "code",
   "execution_count": 6,
   "metadata": {},
   "outputs": [
    {
     "name": "stdout",
     "output_type": "stream",
     "text": [
      "Jeudi\n"
     ]
    }
   ],
   "source": [
    "print(jours[3])"
   ]
  },
  {
   "cell_type": "code",
   "execution_count": 7,
   "metadata": {},
   "outputs": [],
   "source": [
    "chiffres = [0, 1, 2, 3, 4, 5, 6, 7, 8, 9]"
   ]
  },
  {
   "cell_type": "markdown",
   "metadata": {},
   "source": [
    "**Remarque** : En Python, il n'y a aucune contrainte sur le type des éléments d'une liste. Les éléments d'une même liste peuvent être de types différents.\n"
   ]
  },
  {
   "cell_type": "code",
   "execution_count": 9,
   "metadata": {},
   "outputs": [],
   "source": [
    "collection = [3.14, \"Réfrigérateur\", 68, (4, 2), \"Pendule\", False]"
   ]
  },
  {
   "cell_type": "markdown",
   "metadata": {},
   "source": [
    "### Parcours standard d'une liste\n",
    "\n",
    "La boucle for permet de parcourir facilement les éléments d'une liste dans l'ordre."
   ]
  },
  {
   "cell_type": "code",
   "execution_count": 11,
   "metadata": {},
   "outputs": [
    {
     "name": "stdout",
     "output_type": "stream",
     "text": [
      "Lundi\n",
      "Mardi\n",
      "Mercredi\n",
      "Jeudi\n",
      "Vendredi\n",
      "Samedi\n",
      "Dimanche\n",
      "------\n",
      "3.14\n",
      "Réfrigérateur\n",
      "68\n",
      "(4, 2)\n",
      "Pendule\n",
      "False\n"
     ]
    }
   ],
   "source": [
    "for unjour in jours:\n",
    "    print(unjour)\n",
    "print('------')\n",
    "for element in collection:\n",
    "    print(element)"
   ]
  },
  {
   "cell_type": "markdown",
   "metadata": {},
   "source": [
    "### Parcours d'une liste en utilisant des indices\n",
    "\n",
    "Ce n'est pas le parcours le plus habituel, mais il est possible de réaliser un parcours basé sur les indices des éléments.\n",
    "\n",
    "La fonction ``len`` donne la longueur - nombre d'éléments - d'une liste.\n",
    "\n",
    "Le parcours séquentiel d'une liste peut se faire avec une boucle bornée."
   ]
  },
  {
   "cell_type": "code",
   "execution_count": 13,
   "metadata": {},
   "outputs": [
    {
     "name": "stdout",
     "output_type": "stream",
     "text": [
      "Lundi\n",
      "Mardi\n",
      "Mercredi\n",
      "Jeudi\n",
      "Vendredi\n",
      "Samedi\n",
      "Dimanche\n"
     ]
    }
   ],
   "source": [
    "for i in range(len(jours)):\n",
    "    print (jours[i])"
   ]
  },
  {
   "cell_type": "markdown",
   "metadata": {},
   "source": [
    "**Remarque**: pour le parcours des éléments d'une liste ``L``, la convention de numérotation des indices et la définition de ``range`` sont cohérentes pour permettre d'utiliser le schéma usuel :\n",
    "\n",
    "```for i in range(len(L))```"
   ]
  },
  {
   "cell_type": "markdown",
   "metadata": {},
   "source": [
    "## Les listes en Python\n",
    "\n",
    "De manière générale, la longueur d'une liste est arbitraire, n'a pas a être déclarée et peut varier au cours de l'exécution - c'est une structure de données dynamique.\n",
    "\n",
    "Une liste est un objet qui comporte un certain nombre de méthodes qui peuvent être appelées comme on va le voir avec la méthode \n",
    "``append``  qui permet d'jouter un élément en fin de liste.\n",
    "\n",
    "Pour construire une liste par programme, on peut partir d'une liste vide, puis lui ajouter des éléments un à un avec la méthode ``append``."
   ]
  },
  {
   "cell_type": "code",
   "execution_count": 16,
   "metadata": {},
   "outputs": [
    {
     "data": {
      "text/plain": [
       "[0, 1, 4, 9, 16, 25, 36, 49, 64, 81, 100, 121, 144, 169, 196]"
      ]
     },
     "execution_count": 16,
     "metadata": {},
     "output_type": "execute_result"
    }
   ],
   "source": [
    "LC = []\n",
    "for i in range(15):\n",
    "    LC.append (i*i)\n",
    "    \n",
    "LC"
   ]
  },
  {
   "cell_type": "markdown",
   "metadata": {},
   "source": [
    "**Remarque** : on peut ainsi construire des listes arbitrairement longues, sans besoin d'en énumérer les éléments."
   ]
  },
  {
   "cell_type": "markdown",
   "metadata": {},
   "source": [
    "### Modification d'une liste\n",
    "\n",
    "Les listes sont un type **mutable**, ce qui signifie que l'on peut modifier en place une liste en modifiant directement un élément particulier.  On peut aussi insérer un élément à une position particulière ``insert``, dépiler le dernier élément ``pop``, ou supprimer le 1er élément ayant une valeur particulière ``remove``."
   ]
  },
  {
   "cell_type": "code",
   "execution_count": 19,
   "metadata": {},
   "outputs": [],
   "source": [
    "def inseredanslistecroissante (e,L):\n",
    "    for i in range(len(L)):\n",
    "        if e < L[i]:\n",
    "            L.insert(i,e)\n",
    "            return()\n",
    "    L.insert(len(L),e)\n",
    "    return()    "
   ]
  },
  {
   "cell_type": "markdown",
   "metadata": {},
   "source": [
    "Cette fonction modifie la liste triée fournie en paramètre en y insérant un élément à la bonne place. Elle n'a pas besoin de retourner un résultat car son effet est de modifier la liste donnée : c'est en réalité une procédure."
   ]
  },
  {
   "cell_type": "code",
   "execution_count": 21,
   "metadata": {},
   "outputs": [
    {
     "data": {
      "text/plain": [
       "[1, 4, 7, 8, 9, 11, 13, 19]"
      ]
     },
     "execution_count": 21,
     "metadata": {},
     "output_type": "execute_result"
    }
   ],
   "source": [
    "liste = [1,4,7,9,11,13,19]\n",
    "inseredanslistecroissante (8,liste)\n",
    "liste"
   ]
  },
  {
   "cell_type": "markdown",
   "metadata": {},
   "source": [
    "### Recopie d'une liste\n",
    "\n",
    "Dans le cas où l'on souhaite construire une liste résultat distincte de la liste donnée, on peut utiliser la méthode de copie où reconstruire explicitement une nouvelle liste."
   ]
  },
  {
   "cell_type": "code",
   "execution_count": 23,
   "metadata": {},
   "outputs": [
    {
     "data": {
      "text/plain": [
       "[1, 4, 7, 8, 9, 11, 13, 19]"
      ]
     },
     "execution_count": 23,
     "metadata": {},
     "output_type": "execute_result"
    }
   ],
   "source": [
    "liste.copy()"
   ]
  },
  {
   "cell_type": "markdown",
   "metadata": {},
   "source": [
    "La copie crée une nouvelle liste distincte. \n",
    "\n",
    "**Remarque** : c'est une copie *superficielle*, ce qui signifie que si la liste contient elle-même des éléments mutables, seules les références à ces éléments sont copiées, mais pas leurs contenus. "
   ]
  },
  {
   "cell_type": "code",
   "execution_count": 25,
   "metadata": {},
   "outputs": [
    {
     "data": {
      "text/plain": [
       "[19, 13, 11, 9, 8, 7, 4, 1]"
      ]
     },
     "execution_count": 25,
     "metadata": {},
     "output_type": "execute_result"
    }
   ],
   "source": [
    "def renverse (L):\n",
    "    R = []\n",
    "    for i in range(len(L)):\n",
    "        R.insert(0,L[i])\n",
    "    return(R)\n",
    "\n",
    "renverse(liste)"
   ]
  },
  {
   "cell_type": "markdown",
   "metadata": {},
   "source": [
    "La fonction ``renverse`` reconstruit une nouvelle liste en remettant un à un en première position les éléments de la liste donnée, ce qui a pour effet d'inverser la liste. \n",
    "\n",
    "Pour vérifier que cette fonction a bien créé une nouvelle liste sans modifier la liste donnée, il suffit d'afficher la liste initiale. "
   ]
  },
  {
   "cell_type": "code",
   "execution_count": 27,
   "metadata": {},
   "outputs": [
    {
     "data": {
      "text/plain": [
       "[1, 4, 7, 8, 9, 11, 13, 19]"
      ]
     },
     "execution_count": 27,
     "metadata": {},
     "output_type": "execute_result"
    }
   ],
   "source": [
    "liste"
   ]
  },
  {
   "cell_type": "markdown",
   "metadata": {},
   "source": [
    "### Listes en compréhension\n",
    "\n",
    "On peut aussi construire une liste **en compréhension** en écrivant le terme général de la liste, et sa variation par une *pseudo* boucle for de la manière suivante :"
   ]
  },
  {
   "cell_type": "code",
   "execution_count": 29,
   "metadata": {},
   "outputs": [
    {
     "data": {
      "text/plain": [
       "[1, 2, 4, 8, 16, 32, 64, 128, 256, 512, 1024]"
      ]
     },
     "execution_count": 29,
     "metadata": {},
     "output_type": "execute_result"
    }
   ],
   "source": [
    "[2** n for n in range(11)]"
   ]
  },
  {
   "cell_type": "markdown",
   "metadata": {},
   "source": [
    "On peut lire cette expression : liste des $2^n$ pour tout $n$ entre $0$ et $10$."
   ]
  },
  {
   "cell_type": "markdown",
   "metadata": {},
   "source": [
    "On peut aussi construire une liste en compréhension tout en itérant sur une autre liste :"
   ]
  },
  {
   "cell_type": "code",
   "execution_count": 32,
   "metadata": {},
   "outputs": [
    {
     "data": {
      "text/plain": [
       "['cochons', 'chats', 'chiens', 'poules', 'rats']"
      ]
     },
     "execution_count": 32,
     "metadata": {},
     "output_type": "execute_result"
    }
   ],
   "source": [
    "[s + 's' for s in ['cochon', 'chat', 'chien', 'poule', 'rat']]"
   ]
  },
  {
   "cell_type": "markdown",
   "metadata": {},
   "source": [
    "Ces derniers exemples montrent la concision qui peut être obtenue pour des traitements relativement complexes. La syntaxe a été choisie pour correspondre au plus près aux expressions mathématiques usuelles, mais ne doit pas occulter la complexité réelle des traitements sous-jacents."
   ]
  },
  {
   "cell_type": "markdown",
   "metadata": {},
   "source": [
    "## Exercice sur les listes\n",
    "\n",
    "1. Écrivez une fonction qui teste si tous les éléments d'une liste sont des nombres entiers (type int). Pour cela, vous pouvez utiliser la fonction isinstance (par exemple isinstance(3,int) renvoie True).\n",
    "2. Écrivez une fonction qui calcule la somme d'une liste d'entier.\n",
    "3. Écrivez une fonction qui cherche l'indice d'un élément dans une liste. Cela peut être fait par la méthode index, mais on vous demande d'écrire ici une fonction qui parcours la liste."
   ]
  },
  {
   "cell_type": "code",
   "execution_count": null,
   "metadata": {},
   "outputs": [],
   "source": []
  },
  {
   "cell_type": "markdown",
   "metadata": {
    "tags": []
   },
   "source": [
    "# Les dictionnaires en Python\n",
    "\n",
    "Plutôt qu'accéder à une information à partir de son indice (comme dans un\n",
    "tableau), on peut souhaiter y accéder à partir d'une clé. Par exemple, dans un répertoire téléphonique papier, on accède à un\n",
    "numéro de téléphone à partir de la première lettre du nom. L'accès à\n",
    "l'information ainsi que la modification ou l'ajout d'une information doivent\n",
    "être possibles sans devoir feuilleter tout le répertoire.\n",
    " \n",
    "Un dictionnaire est un ensemble non ordonné de paires (clé, valeur). On peut ajouter des couples, si la clé figure déjà dans le dictionnaire alors le couple est remplacé par le nouveau. Le dictionnaire en Python est un objet mutable."
   ]
  },
  {
   "cell_type": "markdown",
   "metadata": {},
   "source": [
    "### Création d'un dictionnaire\n",
    "\n",
    "Plusieurs méthodes permettent de créer soit un dictionnaire vide, soit de le noter en extension, soit de le créer à partir d'une liste de couples, soit en compréhension."
   ]
  },
  {
   "cell_type": "code",
   "execution_count": 37,
   "metadata": {},
   "outputs": [],
   "source": [
    "d1 = {}     # Dictionnaire vide\n",
    "d2 = dict() # Dictionnaire vide\n",
    "d3 = {'cle1':'valeur1', 'cle2':'valeur2'}\n",
    "liste = [('cle3','valeur3'),('cle4','valeur4')]\n",
    "d4 = dict(liste) # à partir d'une liste de couples\n",
    "d5 = {k: k ** 2 for k in range(1, 10)} # en compréhension"
   ]
  },
  {
   "cell_type": "code",
   "execution_count": 38,
   "metadata": {},
   "outputs": [
    {
     "name": "stdout",
     "output_type": "stream",
     "text": [
      "d3 => {'cle1': 'valeur1', 'cle2': 'valeur2'}\n",
      "d4 => {'cle3': 'valeur3', 'cle4': 'valeur4'}\n",
      "d5 => {1: 1, 2: 4, 3: 9, 4: 16, 5: 25, 6: 36, 7: 49, 8: 64, 9: 81}\n"
     ]
    }
   ],
   "source": [
    "print(\"d3 =>\", d3)\n",
    "print(\"d4 =>\", d4)\n",
    "print(\"d5 =>\", d5)"
   ]
  },
  {
   "cell_type": "markdown",
   "metadata": {},
   "source": [
    "**Exemple** : Un répertoire téléphonique interne peut être représenté par un dictionnaire. Il contient une série de paires prénom, numéro de téléphone. On peux accéder au numéro en interrogeant sur le prénom."
   ]
  },
  {
   "cell_type": "code",
   "execution_count": 40,
   "metadata": {},
   "outputs": [
    {
     "data": {
      "text/plain": [
       "5345"
      ]
     },
     "execution_count": 40,
     "metadata": {},
     "output_type": "execute_result"
    }
   ],
   "source": [
    "rep = {'John': 5234, \n",
    "       'Paul': 5345, \n",
    "       'Steeve': 5186, \n",
    "       'Betty': 5678}\n",
    "\n",
    "rep['Paul']"
   ]
  },
  {
   "cell_type": "markdown",
   "metadata": {
    "tags": []
   },
   "source": [
    "On peut modifier la valeur associée à une clé ou ajouter une nouvelle association et afficher le dictionnaire modifié."
   ]
  },
  {
   "cell_type": "code",
   "execution_count": 42,
   "metadata": {},
   "outputs": [
    {
     "data": {
      "text/plain": [
       "{'John': 5234, 'Paul': 5444, 'Steeve': 5186, 'Betty': 5678, 'Jack': 5397}"
      ]
     },
     "execution_count": 42,
     "metadata": {},
     "output_type": "execute_result"
    }
   ],
   "source": [
    "rep['Jack'] = 5397\n",
    "rep['Paul'] = 5444\n",
    "rep"
   ]
  },
  {
   "cell_type": "markdown",
   "metadata": {},
   "source": [
    "Un dictionnaire est une collection, on peut donc obtenir sa taille :"
   ]
  },
  {
   "cell_type": "code",
   "execution_count": 44,
   "metadata": {},
   "outputs": [
    {
     "data": {
      "text/plain": [
       "5"
      ]
     },
     "execution_count": 44,
     "metadata": {},
     "output_type": "execute_result"
    }
   ],
   "source": [
    "len(rep)"
   ]
  },
  {
   "cell_type": "markdown",
   "metadata": {},
   "source": [
    "## Les itérateurs pour les dictionnaires\n",
    "\n",
    "Trois méthodes permettent de parcourir soit l'ensemble des paires clés-valeurs `items()`, soit l'ensemble des clés `keys()`, soit l'ensemble des valeurs `values()`.\n",
    "\n",
    "On peut itérer sur un dictionnaire grâce à l'une de ces méthodes."
   ]
  },
  {
   "cell_type": "code",
   "execution_count": 46,
   "metadata": {},
   "outputs": [
    {
     "name": "stdout",
     "output_type": "stream",
     "text": [
      "John -> 5234\n",
      "Paul -> 5444\n",
      "Steeve -> 5186\n",
      "Betty -> 5678\n",
      "Jack -> 5397\n"
     ]
    }
   ],
   "source": [
    "for name, num in rep.items():\n",
    "    print(name, '->',num)"
   ]
  },
  {
   "cell_type": "code",
   "execution_count": 47,
   "metadata": {},
   "outputs": [
    {
     "name": "stdout",
     "output_type": "stream",
     "text": [
      "Cher-e-s John, Paul, Steeve, Betty, Jack, merci de me rappeler dès que possible !\n"
     ]
    }
   ],
   "source": [
    "message = \"Cher-e-s \"\n",
    "for prenom in rep.keys():\n",
    "    message += prenom + ', '\n",
    "message += \"merci de me rappeler dès que possible !\"\n",
    "print(message)"
   ]
  },
  {
   "cell_type": "code",
   "execution_count": 48,
   "metadata": {},
   "outputs": [
    {
     "name": "stdout",
     "output_type": "stream",
     "text": [
      "5234 déja attribué\n",
      "5444 déja attribué\n",
      "5186 déja attribué\n",
      "5678 déja attribué\n",
      "5397 déja attribué\n"
     ]
    }
   ],
   "source": [
    "for num in rep.values():\n",
    "    print (num, \"déja attribué\")"
   ]
  },
  {
   "cell_type": "markdown",
   "metadata": {
    "tags": []
   },
   "source": [
    "On peut modifier la valeur associée à une clé ou ajouter une nouvelle association et afficher le dictionnaire modifié."
   ]
  },
  {
   "cell_type": "code",
   "execution_count": 50,
   "metadata": {},
   "outputs": [
    {
     "data": {
      "text/plain": [
       "{'John': 5234, 'Paul': 5444, 'Steeve': 5186, 'Betty': 5678, 'Jack': 5397}"
      ]
     },
     "execution_count": 50,
     "metadata": {},
     "output_type": "execute_result"
    }
   ],
   "source": [
    "rep['Jack'] = 5397\n",
    "rep['Paul'] = 5444\n",
    "rep"
   ]
  },
  {
   "cell_type": "markdown",
   "metadata": {},
   "source": [
    "Un dictionnaire est une collection, on peut donc obtenir sa taille :"
   ]
  },
  {
   "cell_type": "code",
   "execution_count": 52,
   "metadata": {},
   "outputs": [
    {
     "data": {
      "text/plain": [
       "5"
      ]
     },
     "execution_count": 52,
     "metadata": {},
     "output_type": "execute_result"
    }
   ],
   "source": [
    "len(rep)"
   ]
  },
  {
   "cell_type": "markdown",
   "metadata": {},
   "source": [
    "## Test de l'existence d'une clé\n",
    "\n",
    "L'opérateur __in__ permet de tester l'appartenance d'une clé à un dictionnaire.\n"
   ]
  },
  {
   "cell_type": "code",
   "execution_count": 54,
   "metadata": {},
   "outputs": [
    {
     "name": "stdout",
     "output_type": "stream",
     "text": [
      "True\n",
      "False\n"
     ]
    }
   ],
   "source": [
    "print('Paul' in  rep)\n",
    "print('Jean-Jérôme' in rep)"
   ]
  },
  {
   "cell_type": "markdown",
   "metadata": {},
   "source": [
    "## Exercice sur les dictionnaires\n",
    "\n",
    "On donne un liste d'élèves avec leurs notes : \n",
    "- Jacques : 12\n",
    "- Jean : 10\n",
    "- Jeanne : 9\n",
    "- Jerome : 15\n",
    "- Jacqueline : 13\n",
    "- Jules : 12\n",
    "- Julie : 12\n",
    "- Julien : 7\n",
    "- Jeremie : 10\n",
    "- Josselin : 12\n",
    "- Janine : 15\n",
    "\n",
    "1. Créez une dictionnaire avec ces données, les noms étant les clés du dictionnaire et les notes les valeurs du dictionnaire.\n",
    "2. Donnez le code permettant d'afficher la note de Jerome\n",
    "3. Que se passe-t-il si on demande la note avec un clé qui n'appartient pas au dictionnaire (par exemple la note de gerald) ?\n",
    "4. Écrivez une fonction qui calcule la moyenne des notes en prenant le dictionnaire en paramètre.\n",
    "4. Écrivez une fonction qui permet de calculer un nouveau dictionnaire ayant les notes comme clé et comme valeur la liste des élèves ayant obtenu cette note. Si aucun élève n'a obtenu une note, celle-ci n'apparait pas dans le dictionnaire. La fonction reçoit le premier dictionnaire en paramètre et renvoie le second comme résultat.\n",
    "\n"
   ]
  },
  {
   "cell_type": "code",
   "execution_count": null,
   "metadata": {},
   "outputs": [],
   "source": []
  }
 ],
 "metadata": {
  "kernelspec": {
   "display_name": "Python 3 (ipykernel)",
   "language": "python",
   "name": "python3"
  },
  "language_info": {
   "codemirror_mode": {
    "name": "ipython",
    "version": 3
   },
   "file_extension": ".py",
   "mimetype": "text/x-python",
   "name": "python",
   "nbconvert_exporter": "python",
   "pygments_lexer": "ipython3",
   "version": "3.12.7"
  }
 },
 "nbformat": 4,
 "nbformat_minor": 4
}
